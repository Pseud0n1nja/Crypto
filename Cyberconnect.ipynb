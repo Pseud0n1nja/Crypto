{
 "cells": [
  {
   "cell_type": "code",
   "execution_count": 9,
   "metadata": {},
   "outputs": [],
   "source": [
    "import pandas as pd\n",
    "import numpy as np\n",
    "import datetime as dt\n",
    "from gql import gql, Client\n",
    "from gql.transport.requests import RequestsHTTPTransport\n",
    "\n",
    "url = 'https://api.cybertino.io/connect/'\n",
    "\n",
    "def get_data(base, url=url):\n",
    "\n",
    "    sample_transport=RequestsHTTPTransport(\n",
    "    url=url,\n",
    "    verify=True,\n",
    "    retries=5,\n",
    "    )\n",
    "    client = Client(\n",
    "        transport=sample_transport\n",
    "    )\n",
    "   \n",
    "    \n",
    "    query = gql(base) \n",
    "    \n",
    "    response = client.execute(query)\n",
    "    \n",
    "    return response"
   ]
  },
  {
   "cell_type": "code",
   "execution_count": 148,
   "metadata": {},
   "outputs": [],
   "source": [
    "base = {}\n",
    "base[0] =  '''\n",
    "    {\n",
    "  identity(address: \"0xd8da6bf26964af9d7eed9e03e53415d37aa96045\") {\n",
    "    followers(first:50, after: \"50\"){\n",
    "      list{\n",
    "        address\n",
    "      }\n",
    "    }\n",
    "  }\n",
    "}\n",
    "    '''\n",
    "\n",
    "figures = np.arange(100,4050,50)\n",
    "\n",
    "for i in range(len(figures)-1):\n",
    "    base[i+1] = base[0].replace(\"50\", str(figures[i]))"
   ]
  },
  {
   "cell_type": "code",
   "execution_count": 149,
   "metadata": {},
   "outputs": [],
   "source": [
    "data = {}\n",
    "for i in range(len(base)):\n",
    "    data[i] = get_data(base[i])"
   ]
  },
  {
   "cell_type": "code",
   "execution_count": 150,
   "metadata": {},
   "outputs": [],
   "source": [
    "address = {}\n",
    "for i in range(len(data)):\n",
    "    \n",
    "    address[i] = []\n",
    "    \n",
    "    for z in range(len(data[i]['identity']['followers']['list'])):\n",
    "        address[i].append(data[i]['identity']['followers']['list'][z]['address'])"
   ]
  },
  {
   "cell_type": "code",
   "execution_count": 151,
   "metadata": {},
   "outputs": [],
   "source": [
    "full = list(pd.concat([pd.Series(address[i]) for i in range(len(address))]))"
   ]
  },
  {
   "cell_type": "code",
   "execution_count": 152,
   "metadata": {},
   "outputs": [
    {
     "data": {
      "text/plain": [
       "3950"
      ]
     },
     "execution_count": 152,
     "metadata": {},
     "output_type": "execute_result"
    }
   ],
   "source": [
    "len(full)"
   ]
  },
  {
   "cell_type": "code",
   "execution_count": null,
   "metadata": {},
   "outputs": [],
   "source": []
  }
 ],
 "metadata": {
  "kernelspec": {
   "display_name": "Python 3",
   "language": "python",
   "name": "python3"
  },
  "language_info": {
   "codemirror_mode": {
    "name": "ipython",
    "version": 3
   },
   "file_extension": ".py",
   "mimetype": "text/x-python",
   "name": "python",
   "nbconvert_exporter": "python",
   "pygments_lexer": "ipython3",
   "version": "3.8.5"
  }
 },
 "nbformat": 4,
 "nbformat_minor": 4
}
